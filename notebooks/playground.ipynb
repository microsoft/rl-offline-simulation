{
 "cells": [
  {
   "cell_type": "markdown",
   "id": "48906ffa-75fb-47bd-9756-468fa134e683",
   "metadata": {
    "tags": []
   },
   "source": [
    "## Example of how to compute metrics for measuring fidelity of simulation"
   ]
  },
  {
   "cell_type": "code",
   "execution_count": 2,
   "id": "88b4c74d-ec6d-4706-9e2d-8706526d84e2",
   "metadata": {},
   "outputs": [],
   "source": [
    "import h5py\n",
    "\n",
    "filename = '..\\\\cartpole_pd_controller_eps_0.05_omega_seed_100_steps_50000.hdf5'\n",
    "\n",
    "f = h5py.File(filename)"
   ]
  },
  {
   "cell_type": "code",
   "execution_count": 3,
   "id": "6dc6a342",
   "metadata": {},
   "outputs": [
    {
     "data": {
      "text/plain": [
       "<KeysViewHDF5 ['action_distributions', 'actions', 'episode_ids', 'next_observations', 'observations', 'rewards', 'steps', 'terminals']>"
      ]
     },
     "execution_count": 3,
     "metadata": {},
     "output_type": "execute_result"
    }
   ],
   "source": [
    "f.keys()"
   ]
  },
  {
   "cell_type": "code",
   "execution_count": 4,
   "id": "0267e72e",
   "metadata": {},
   "outputs": [
    {
     "data": {
      "text/plain": [
       "array([[ 0.03349816,  0.0096554 , -0.02111368, -0.04570484],\n",
       "       [ 0.03369127, -0.18515752, -0.02202777,  0.24024247],\n",
       "       [ 0.02998812,  0.01027205, -0.01722292, -0.05930644],\n",
       "       [ 0.03019356, -0.18459877, -0.01840905,  0.22789316],\n",
       "       [ 0.02650159,  0.01078135, -0.01385119, -0.07053933],\n",
       "       [ 0.02671721, -0.18413931, -0.01526198,  0.2177415 ],\n",
       "       [ 0.02303443,  0.01119745, -0.01090715, -0.07971636],\n",
       "       [ 0.02325838, -0.18376645, -0.01250147,  0.20950547],\n",
       "       [ 0.01958305,  0.011532  , -0.00831136, -0.08709466],\n",
       "       [ 0.01981369, -0.18346983, -0.01005326,  0.20295449]],\n",
       "      dtype=float32)"
      ]
     },
     "execution_count": 4,
     "metadata": {},
     "output_type": "execute_result"
    }
   ],
   "source": [
    "f['observations'][:10]"
   ]
  },
  {
   "cell_type": "code",
   "execution_count": 26,
   "id": "965aa8c7",
   "metadata": {},
   "outputs": [
    {
     "data": {
      "text/plain": [
       "1"
      ]
     },
     "execution_count": 26,
     "metadata": {},
     "output_type": "execute_result"
    }
   ],
   "source": [
    "f['actions'][5]"
   ]
  },
  {
   "cell_type": "code",
   "execution_count": 15,
   "id": "1042219c",
   "metadata": {},
   "outputs": [
    {
     "data": {
      "text/plain": [
       "1.0"
      ]
     },
     "execution_count": 15,
     "metadata": {},
     "output_type": "execute_result"
    }
   ],
   "source": [
    "f['rewards'][1]"
   ]
  },
  {
   "cell_type": "code",
   "execution_count": 16,
   "id": "1ff8e423",
   "metadata": {},
   "outputs": [
    {
     "data": {
      "text/plain": [
       "array([ 0.02998812,  0.01027205, -0.01722292, -0.05930644], dtype=float32)"
      ]
     },
     "execution_count": 16,
     "metadata": {},
     "output_type": "execute_result"
    }
   ],
   "source": [
    "f['next_observations'][1]"
   ]
  },
  {
   "cell_type": "code",
   "execution_count": null,
   "id": "4f4a2d17",
   "metadata": {},
   "outputs": [],
   "source": []
  }
 ],
 "metadata": {
  "kernelspec": {
   "display_name": "offsim4rl",
   "language": "python",
   "name": "python3"
  },
  "language_info": {
   "codemirror_mode": {
    "name": "ipython",
    "version": 3
   },
   "file_extension": ".py",
   "mimetype": "text/x-python",
   "name": "python",
   "nbconvert_exporter": "python",
   "pygments_lexer": "ipython3",
   "version": "3.7.13"
  }
 },
 "nbformat": 4,
 "nbformat_minor": 5
}
